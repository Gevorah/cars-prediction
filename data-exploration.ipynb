{
 "cells": [
  {
   "cell_type": "markdown",
   "source": "#Analisis exploratorio de los datos\n\nCodebook para llevar a cabo el analisís preliminar de los datos obtenidos mediante la tecnica web-scrapping sobre [Mercado Libre Colombia](https://carros.mercadolibre.com.co/usados)\n\n",
   "metadata": {
    "id": "zMkH28mtF-VD",
    "cell_id": "9fb3efff-598d-424f-9076-c4b1d8a2c245",
    "deepnote_cell_type": "markdown",
    "deepnote_cell_height": 88.80000305175781
   }
  },
  {
   "cell_type": "markdown",
   "source": "### Librerias necesarias",
   "metadata": {
    "id": "Fri62DZWFqET",
    "cell_id": "00001-8cc83cf4-8efd-4623-8387-db138e83f234",
    "deepnote_cell_type": "markdown",
    "deepnote_cell_height": 62
   }
  },
  {
   "cell_type": "code",
   "metadata": {
    "id": "OivMThptqRQf",
    "executionInfo": {
     "status": "ok",
     "timestamp": 1649292504369,
     "user_tz": 300,
     "elapsed": 253,
     "user": {
      "displayName": "Jhon Ijaji",
      "userId": "15186852658417833647"
     }
    },
    "cell_id": "00002-4f18ff6b-e9f5-409b-98aa-d1bece60f216",
    "deepnote_cell_type": "code",
    "deepnote_cell_height": 120
   },
   "source": "import pandas as pd                #Importamos pandas para el manejo de los dataframes\nimport matplotlib.pyplot as plt    #Importamos pyplot de librería matplotlib. Lo vamos a utilizar para graficar.\nimport seaborn as sns              #Importamos la librería Seaborn. La vamos a utilizar para graficar.\nimport numpy as np                 #Importamos la librería numpy para manipular arreglos. ",
   "execution_count": 14,
   "outputs": []
  },
  {
   "cell_type": "markdown",
   "source": "Proceso para importar datos recolectados alojados en la nube (Google Drive)",
   "metadata": {
    "id": "gQe1R_p8HOGK",
    "cell_id": "00003-9124d7e9-1981-4562-b90b-a0f73936758f",
    "deepnote_cell_type": "markdown",
    "deepnote_cell_height": 52.399993896484375
   }
  },
  {
   "cell_type": "code",
   "metadata": {
    "id": "YBWx6YGKrVbw",
    "executionInfo": {
     "status": "ok",
     "timestamp": 1649292506442,
     "user_tz": 300,
     "elapsed": 1073,
     "user": {
      "displayName": "Jhon Ijaji",
      "userId": "15186852658417833647"
     }
    },
    "cell_id": "00004-1ec96636-cd35-43ea-ac67-ca8bfffae67f",
    "deepnote_cell_type": "code",
    "deepnote_cell_height": 120
   },
   "source": "url = 'https://drive.google.com/file/d/1sNpJY44MTuq75eDKNTn2EZiG3lydLUeM/view?usp=sharing'\ndata = 'https://drive.google.com/uc?export=download&id='+url.split('/')[-2]\n\ndf = pd.read_csv(data)",
   "execution_count": 15,
   "outputs": []
  },
  {
   "cell_type": "markdown",
   "source": "Revisión de la información básica del dataset y tipos de datos mapeados en el mismo",
   "metadata": {
    "id": "wS24J93ewn_9",
    "cell_id": "00005-aec7cefc-89c7-4921-bbed-ee173383ff42",
    "deepnote_cell_type": "markdown",
    "deepnote_cell_height": 52.399993896484375
   }
  },
  {
   "cell_type": "code",
   "metadata": {
    "colab": {
     "base_uri": "https://localhost:8080/"
    },
    "id": "5LSPsfpasStB",
    "outputId": "161f32f1-8c52-432f-d137-9279d051adca",
    "executionInfo": {
     "status": "ok",
     "timestamp": 1649292506689,
     "user_tz": 300,
     "elapsed": 6,
     "user": {
      "displayName": "Jhon Ijaji",
      "userId": "15186852658417833647"
     }
    },
    "cell_id": "00006-8b41e136-744c-437d-924b-fcebfb09c078",
    "deepnote_cell_type": "code",
    "deepnote_cell_height": 532.4000244140625
   },
   "source": "print('(Número de observaciones, número de atributos) = {}\\n'.format(df.shape))\ndf.info()",
   "execution_count": 16,
   "outputs": [
    {
     "output_type": "stream",
     "name": "stdout",
     "text": "(Número de observaciones, número de atributos) = (27929, 13)\n\n<class 'pandas.core.frame.DataFrame'>\nRangeIndex: 27929 entries, 0 to 27928\nData columns (total 13 columns):\n #   Column         Non-Null Count  Dtype  \n---  ------         --------------  -----  \n 0   bodywork_type  22701 non-null  object \n 1   brand          27833 non-null  object \n 2   city           27929 non-null  object \n 3   color          16073 non-null  object \n 4   doors          27788 non-null  float64\n 5   fuel_type      27830 non-null  object \n 6   kilometers     27833 non-null  float64\n 7   model          27833 non-null  object \n 8   motor          22829 non-null  object \n 9   price          27929 non-null  int64  \n 10  state          27929 non-null  object \n 11  transmission   27833 non-null  object \n 12  year           27833 non-null  float64\ndtypes: float64(3), int64(1), object(9)\nmemory usage: 2.8+ MB\n"
    }
   ]
  },
  {
   "cell_type": "markdown",
   "source": "Definición del tipo de dato adecuado para cada variable",
   "metadata": {
    "id": "rE2MG5Uow08f",
    "cell_id": "00007-bf34d692-1f26-4bc4-b913-57e77154ad4c",
    "deepnote_cell_type": "markdown",
    "deepnote_cell_height": 52.399993896484375
   }
  },
  {
   "cell_type": "code",
   "metadata": {
    "id": "oswv9k6UtuNe",
    "executionInfo": {
     "status": "ok",
     "timestamp": 1649292509016,
     "user_tz": 300,
     "elapsed": 233,
     "user": {
      "displayName": "Jhon Ijaji",
      "userId": "15186852658417833647"
     }
    },
    "cell_id": "00008-e0e19015-65a6-487f-92ad-36d6a9271572",
    "deepnote_cell_type": "code",
    "deepnote_cell_height": 282
   },
   "source": "df['bodywork_type'] = df['bodywork_type'].astype(\"string\")\ndf['brand'] = df['brand'].astype(\"string\")\ndf['color'] = df['color'].astype(\"string\")\ndf['doors'] = df['doors'].astype(\"string\")\ndf['fuel_type'] = df['fuel_type'].astype(\"string\")\ndf['kilometers'] = df['kilometers'].astype(\"float64\")\ndf['model'] = df['model'].astype(\"string\")\ndf['motor'] = df['motor'].astype(\"string\")\ndf['price'] = df['price'].astype('float64')\ndf['transmission'] = df['transmission'].astype('string')\ndf['year'] = df['year'].astype(\"string\")\ndf['state'] = df['state'].astype('string')\ndf['city'] = df['city'].astype('string')",
   "execution_count": 17,
   "outputs": []
  },
  {
   "cell_type": "markdown",
   "source": "Verificación de la asignación de tipos realizada",
   "metadata": {
    "id": "fsKFNQU4w7h5",
    "cell_id": "00009-db2cfa59-4815-44ec-9251-11ad0c22d551",
    "deepnote_cell_type": "markdown",
    "deepnote_cell_height": 52.399993896484375
   }
  },
  {
   "cell_type": "code",
   "metadata": {
    "colab": {
     "base_uri": "https://localhost:8080/"
    },
    "id": "lDqdFwGit-xe",
    "outputId": "5de06af4-789e-4c1a-879a-6c5163e5071e",
    "executionInfo": {
     "status": "ok",
     "timestamp": 1649292510793,
     "user_tz": 300,
     "elapsed": 237,
     "user": {
      "displayName": "Jhon Ijaji",
      "userId": "15186852658417833647"
     }
    },
    "cell_id": "00010-d3b72885-085f-4f92-bd12-9324f6f1f53f",
    "deepnote_cell_type": "code",
    "deepnote_cell_height": 360.79998779296875
   },
   "source": "print(df.dtypes)",
   "execution_count": 18,
   "outputs": [
    {
     "output_type": "stream",
     "name": "stdout",
     "text": "bodywork_type     string\nbrand             string\ncity              string\ncolor             string\ndoors             string\nfuel_type         string\nkilometers       float64\nmodel             string\nmotor             string\nprice            float64\nstate             string\ntransmission      string\nyear              string\ndtype: object\n"
    }
   ]
  },
  {
   "cell_type": "markdown",
   "source": "**Primer análisis exploratorio sobre variables continuas actuales**",
   "metadata": {
    "id": "k5z3GaZEw-zo",
    "cell_id": "00011-94554990-8d38-4d29-8d2a-4f408d8df3ae",
    "deepnote_cell_type": "markdown",
    "deepnote_cell_height": 52.399993896484375
   }
  },
  {
   "cell_type": "code",
   "metadata": {
    "colab": {
     "base_uri": "https://localhost:8080/",
     "height": 300
    },
    "id": "-41f9W8TwPkd",
    "outputId": "ea4844be-d188-4619-b15d-6df071ec5c09",
    "executionInfo": {
     "status": "ok",
     "timestamp": 1649292512355,
     "user_tz": 300,
     "elapsed": 251,
     "user": {
      "displayName": "Jhon Ijaji",
      "userId": "15186852658417833647"
     }
    },
    "cell_id": "00012-92bce834-28ef-48a3-9ed2-54a7763aff5a",
    "deepnote_cell_type": "code",
    "deepnote_cell_height": 361,
    "deepnote_output_heights": [
     264
    ]
   },
   "source": "df.describe()",
   "execution_count": 19,
   "outputs": [
    {
     "output_type": "execute_result",
     "data": {
      "text/plain": "         kilometers         price\ncount  2.783300e+04  2.792900e+04\nmean   9.055621e+04  7.177380e+07\nstd    1.443806e+05  7.111876e+07\nmin    0.000000e+00  1.500000e+06\n25%    3.800000e+04  3.480000e+07\n50%    7.500000e+04  5.200000e+07\n75%    1.200000e+05  8.600000e+07\nmax    1.545645e+07  3.100000e+09",
      "text/html": "\n  <div id=\"df-7381b207-559e-4c9d-b823-5290860ba545\">\n    <div class=\"colab-df-container\">\n      <div>\n<style scoped>\n    .dataframe tbody tr th:only-of-type {\n        vertical-align: middle;\n    }\n\n    .dataframe tbody tr th {\n        vertical-align: top;\n    }\n\n    .dataframe thead th {\n        text-align: right;\n    }\n</style>\n<table border=\"1\" class=\"dataframe\">\n  <thead>\n    <tr style=\"text-align: right;\">\n      <th></th>\n      <th>kilometers</th>\n      <th>price</th>\n    </tr>\n  </thead>\n  <tbody>\n    <tr>\n      <th>count</th>\n      <td>2.783300e+04</td>\n      <td>2.792900e+04</td>\n    </tr>\n    <tr>\n      <th>mean</th>\n      <td>9.055621e+04</td>\n      <td>7.177380e+07</td>\n    </tr>\n    <tr>\n      <th>std</th>\n      <td>1.443806e+05</td>\n      <td>7.111876e+07</td>\n    </tr>\n    <tr>\n      <th>min</th>\n      <td>0.000000e+00</td>\n      <td>1.500000e+06</td>\n    </tr>\n    <tr>\n      <th>25%</th>\n      <td>3.800000e+04</td>\n      <td>3.480000e+07</td>\n    </tr>\n    <tr>\n      <th>50%</th>\n      <td>7.500000e+04</td>\n      <td>5.200000e+07</td>\n    </tr>\n    <tr>\n      <th>75%</th>\n      <td>1.200000e+05</td>\n      <td>8.600000e+07</td>\n    </tr>\n    <tr>\n      <th>max</th>\n      <td>1.545645e+07</td>\n      <td>3.100000e+09</td>\n    </tr>\n  </tbody>\n</table>\n</div>\n      <button class=\"colab-df-convert\" onclick=\"convertToInteractive('df-7381b207-559e-4c9d-b823-5290860ba545')\"\n              title=\"Convert this dataframe to an interactive table.\"\n              style=\"display:none;\">\n        \n  <svg xmlns=\"http://www.w3.org/2000/svg\" height=\"24px\"viewBox=\"0 0 24 24\"\n       width=\"24px\">\n    <path d=\"M0 0h24v24H0V0z\" fill=\"none\"/>\n    <path d=\"M18.56 5.44l.94 2.06.94-2.06 2.06-.94-2.06-.94-.94-2.06-.94 2.06-2.06.94zm-11 1L8.5 8.5l.94-2.06 2.06-.94-2.06-.94L8.5 2.5l-.94 2.06-2.06.94zm10 10l.94 2.06.94-2.06 2.06-.94-2.06-.94-.94-2.06-.94 2.06-2.06.94z\"/><path d=\"M17.41 7.96l-1.37-1.37c-.4-.4-.92-.59-1.43-.59-.52 0-1.04.2-1.43.59L10.3 9.45l-7.72 7.72c-.78.78-.78 2.05 0 2.83L4 21.41c.39.39.9.59 1.41.59.51 0 1.02-.2 1.41-.59l7.78-7.78 2.81-2.81c.8-.78.8-2.07 0-2.86zM5.41 20L4 18.59l7.72-7.72 1.47 1.35L5.41 20z\"/>\n  </svg>\n      </button>\n      \n  <style>\n    .colab-df-container {\n      display:flex;\n      flex-wrap:wrap;\n      gap: 12px;\n    }\n\n    .colab-df-convert {\n      background-color: #E8F0FE;\n      border: none;\n      border-radius: 50%;\n      cursor: pointer;\n      display: none;\n      fill: #1967D2;\n      height: 32px;\n      padding: 0 0 0 0;\n      width: 32px;\n    }\n\n    .colab-df-convert:hover {\n      background-color: #E2EBFA;\n      box-shadow: 0px 1px 2px rgba(60, 64, 67, 0.3), 0px 1px 3px 1px rgba(60, 64, 67, 0.15);\n      fill: #174EA6;\n    }\n\n    [theme=dark] .colab-df-convert {\n      background-color: #3B4455;\n      fill: #D2E3FC;\n    }\n\n    [theme=dark] .colab-df-convert:hover {\n      background-color: #434B5C;\n      box-shadow: 0px 1px 3px 1px rgba(0, 0, 0, 0.15);\n      filter: drop-shadow(0px 1px 2px rgba(0, 0, 0, 0.3));\n      fill: #FFFFFF;\n    }\n  </style>\n\n      <script>\n        const buttonEl =\n          document.querySelector('#df-7381b207-559e-4c9d-b823-5290860ba545 button.colab-df-convert');\n        buttonEl.style.display =\n          google.colab.kernel.accessAllowed ? 'block' : 'none';\n\n        async function convertToInteractive(key) {\n          const element = document.querySelector('#df-7381b207-559e-4c9d-b823-5290860ba545');\n          const dataTable =\n            await google.colab.kernel.invokeFunction('convertToInteractive',\n                                                     [key], {});\n          if (!dataTable) return;\n\n          const docLinkHtml = 'Like what you see? Visit the ' +\n            '<a target=\"_blank\" href=https://colab.research.google.com/notebooks/data_table.ipynb>data table notebook</a>'\n            + ' to learn more about interactive tables.';\n          element.innerHTML = '';\n          dataTable['output_type'] = 'display_data';\n          await google.colab.output.renderOutput(dataTable, element);\n          const docLink = document.createElement('div');\n          docLink.innerHTML = docLinkHtml;\n          element.appendChild(docLink);\n        }\n      </script>\n    </div>\n  </div>\n  "
     },
     "metadata": {},
     "execution_count": 19
    }
   ]
  },
  {
   "cell_type": "markdown",
   "source": "Verificación de inconsistencias en el dataset ",
   "metadata": {
    "id": "-8uzefP3xGZm",
    "cell_id": "00013-e60b3f61-f6d1-4d85-90da-e46ebc7fec4b",
    "deepnote_cell_type": "markdown",
    "deepnote_cell_height": 52.399993896484375
   }
  },
  {
   "cell_type": "code",
   "metadata": {
    "colab": {
     "base_uri": "https://localhost:8080/"
    },
    "id": "Uw6NGYZ8z1tT",
    "outputId": "fd6eb7c4-3953-42c1-de2a-209fe0de9ff9",
    "executionInfo": {
     "status": "ok",
     "timestamp": 1649292514101,
     "user_tz": 300,
     "elapsed": 224,
     "user": {
      "displayName": "Jhon Ijaji",
      "userId": "15186852658417833647"
     }
    },
    "cell_id": "00014-04fcc0e9-18d2-4e29-83f8-0c0266424f90",
    "deepnote_cell_type": "code",
    "deepnote_cell_height": 327.20001220703125
   },
   "source": "print('¿El conjunto de datos tiene nan?',df.isnull().values.any(),'\\n')\nprint('¿Cuántos nan tiene en total?', df.isnull().sum().sum(),'\\n')\n\ndiccionario_de_nan = {}\nfor atributo in df.columns.values:\n  diccionario_de_nan[atributo]=df[atributo].isnull().sum()\nprint('¿Cómo están distribuidos los nan?\\n',diccionario_de_nan)",
   "execution_count": 20,
   "outputs": [
    {
     "output_type": "stream",
     "name": "stdout",
     "text": "¿El conjunto de datos tiene nan? True \n\n¿Cuántos nan tiene en total? 22904 \n\n¿Cómo están distribuidos los nan?\n {'bodywork_type': 5228, 'brand': 96, 'city': 0, 'color': 11856, 'doors': 141, 'fuel_type': 99, 'kilometers': 96, 'model': 96, 'motor': 5100, 'price': 0, 'state': 0, 'transmission': 96, 'year': 96}\n"
    }
   ]
  },
  {
   "cell_type": "code",
   "metadata": {
    "id": "KHEas-62esNv",
    "executionInfo": {
     "status": "ok",
     "timestamp": 1649292815037,
     "user_tz": 300,
     "elapsed": 268,
     "user": {
      "displayName": "Jhon Ijaji",
      "userId": "15186852658417833647"
     }
    },
    "cell_id": "00015-376c4dfd-9059-4a86-9cb4-2b2a9e8a3041",
    "deepnote_cell_type": "code",
    "deepnote_cell_height": 66
   },
   "source": "df = df.fillna(method='ffill')",
   "execution_count": 27,
   "outputs": []
  },
  {
   "cell_type": "markdown",
   "source": "# Visualización de los datos",
   "metadata": {
    "id": "F5dtv4G80r4a",
    "cell_id": "00016-0975f8e7-4fc6-4c4e-a968-62b505a2516a",
    "deepnote_cell_type": "markdown",
    "deepnote_cell_height": 82
   }
  },
  {
   "cell_type": "markdown",
   "source": "# Nueva sección",
   "metadata": {
    "id": "yGhCdPoRF-tI",
    "cell_id": "00017-7b171967-0abf-4153-859f-dc7dc162b023",
    "deepnote_cell_type": "markdown",
    "deepnote_cell_height": 82
   }
  },
  {
   "cell_type": "markdown",
   "source": "Figura 1. Histograma de los tipos de transmisión",
   "metadata": {
    "id": "o8Yo7knIIQ0h",
    "cell_id": "00018-11ca5fec-796a-4820-a608-a4756737ecd6",
    "deepnote_cell_type": "markdown",
    "deepnote_cell_height": 52.399993896484375
   }
  },
  {
   "cell_type": "code",
   "metadata": {
    "colab": {
     "base_uri": "https://localhost:8080/",
     "height": 421
    },
    "id": "InuSuTbz0t3g",
    "outputId": "cd6d2900-985f-4db3-f601-e8bee667591a",
    "executionInfo": {
     "status": "ok",
     "timestamp": 1649291804301,
     "user_tz": 300,
     "elapsed": 567,
     "user": {
      "displayName": "Jhon Ijaji",
      "userId": "15186852658417833647"
     }
    },
    "cell_id": "00019-5a18bb5e-8618-46db-8148-0e94bfdd54d4",
    "deepnote_cell_type": "code",
    "deepnote_cell_height": 790,
    "deepnote_output_heights": [
     21,
     389
    ]
   },
   "source": "#Ahora generemos el histograma usando la librería seaborn.\nplt.figure(figsize=(6,6))\nsns.histplot(data     = df, \n             x        ='transmission',\n             bins     = 30,\n             color    = 'red',\n             fill     = True,\n             stat     = 'count')    #'count' muestra el número de observaciones.\n                                    #'frequency' muestra el número de observaciones dividida por el ancho del bin.\n                                    #'density' normaliza las cuentas tal que el área del histograma es 1.\n                                    #'probability' normaliza las cuentas tal que la suma de la altura de las barras es 1.\n\nplt.xlabel('Atributo: transmission.') #Texto en el eje x.\nplt.ylabel('Cuentas.')              #Texto en el eje y.\nplt.title('Histograma')  ",
   "execution_count": null,
   "outputs": [
    {
     "output_type": "execute_result",
     "data": {
      "text/plain": "Text(0.5, 1.0, 'Histograma')"
     },
     "metadata": {},
     "execution_count": 9
    },
    {
     "output_type": "display_data",
     "data": {
      "text/plain": "<Figure size 432x432 with 1 Axes>",
      "image/png": "[encoded data removed]"
     },
     "metadata": {
      "needs_background": "light",
      "image/png": {
       "width": 401,
       "height": 387
      }
     }
    }
   ]
  },
  {
   "cell_type": "markdown",
   "source": "Figura 2. Histograma de los tipos de combustible",
   "metadata": {
    "id": "AGBQRH8eIua0",
    "cell_id": "00020-42f6e34e-9d1c-4245-a03b-e18d3f84d524",
    "deepnote_cell_type": "markdown",
    "deepnote_cell_height": 52.399993896484375
   }
  },
  {
   "cell_type": "code",
   "metadata": {
    "colab": {
     "base_uri": "https://localhost:8080/",
     "height": 422
    },
    "id": "44Jv8D1W4MjD",
    "outputId": "6a725023-4969-4f8c-ef47-3913097f4094",
    "executionInfo": {
     "status": "ok",
     "timestamp": 1649291823309,
     "user_tz": 300,
     "elapsed": 561,
     "user": {
      "displayName": "Jhon Ijaji",
      "userId": "15186852658417833647"
     }
    },
    "cell_id": "00021-a55715d4-25a0-425b-b289-c8f2053d0935",
    "deepnote_cell_type": "code",
    "deepnote_cell_height": 791,
    "deepnote_output_heights": [
     21,
     390
    ]
   },
   "source": "#Ahora generemos el histograma usando la librería seaborn.\nplt.figure(figsize=(6,6))\nsns.histplot(data     = df, \n             x        ='fuel_type',\n             bins     = 30,\n             color    = 'blue',\n             fill     = True,\n             stat     = 'count')    #'count' muestra el número de observaciones.\n                                    #'frequency' muestra el número de observaciones dividida por el ancho del bin.\n                                    #'density' normaliza las cuentas tal que el área del histograma es 1.\n                                    #'probability' normaliza las cuentas tal que la suma de la altura de las barras es 1.\n\nplt.xlabel('Atributo: fuel_type.') #Texto en el eje x.\nplt.ylabel('Cuentas.')              #Texto en el eje y.\nplt.title('Histograma') ",
   "execution_count": null,
   "outputs": [
    {
     "output_type": "execute_result",
     "data": {
      "text/plain": "Text(0.5, 1.0, 'Histograma')"
     },
     "metadata": {},
     "execution_count": 10
    },
    {
     "output_type": "display_data",
     "data": {
      "text/plain": "<Figure size 432x432 with 1 Axes>",
      "image/png": "[encoded data removed]"
     },
     "metadata": {
      "needs_background": "light",
      "image/png": {
       "width": 401,
       "height": 388
      }
     }
    }
   ]
  },
  {
   "cell_type": "markdown",
   "source": "Figura 3. Histograma del número de puertas",
   "metadata": {
    "id": "zQ3vUDWiI3I3",
    "cell_id": "00022-61792e4d-a0d5-4b2c-a8b8-1031086dda4f",
    "deepnote_cell_type": "markdown",
    "deepnote_cell_height": 52.399993896484375
   }
  },
  {
   "cell_type": "code",
   "metadata": {
    "colab": {
     "base_uri": "https://localhost:8080/",
     "height": 421
    },
    "id": "jcrMF4-g4S33",
    "outputId": "58cc4dd3-7c56-42d5-872e-e9fd9aa3a0e2",
    "executionInfo": {
     "status": "ok",
     "timestamp": 1649291827217,
     "user_tz": 300,
     "elapsed": 661,
     "user": {
      "displayName": "Jhon Ijaji",
      "userId": "15186852658417833647"
     }
    },
    "cell_id": "00023-87b235a5-054d-419c-a7c8-287ef9b5691b",
    "deepnote_cell_type": "code",
    "deepnote_cell_height": 790,
    "deepnote_output_heights": [
     21,
     389
    ]
   },
   "source": "#Ahora generemos el histograma usando la librería seaborn.\nplt.figure(figsize=(6,6))\nsns.histplot(data     = df, \n             x        ='doors',\n             bins     = 30,\n             color    = 'red',\n             fill     = True,\n             stat     = 'count')    #'count' muestra el número de observaciones.\n                                    #'frequency' muestra el número de observaciones dividida por el ancho del bin.\n                                    #'density' normaliza las cuentas tal que el área del histograma es 1.\n                                    #'probability' normaliza las cuentas tal que la suma de la altura de las barras es 1.\n\nplt.xlabel('Atributo: doors.') #Texto en el eje x.\nplt.ylabel('Cuentas.')              #Texto en el eje y.\nplt.title('Histograma') ",
   "execution_count": null,
   "outputs": [
    {
     "output_type": "execute_result",
     "data": {
      "text/plain": "Text(0.5, 1.0, 'Histograma')"
     },
     "metadata": {},
     "execution_count": 11
    },
    {
     "output_type": "display_data",
     "data": {
      "text/plain": "<Figure size 432x432 with 1 Axes>",
      "image/png": "[encoded data removed]"
     },
     "metadata": {
      "needs_background": "light",
      "image/png": {
       "width": 401,
       "height": 387
      }
     }
    }
   ]
  },
  {
   "cell_type": "code",
   "metadata": {
    "colab": {
     "base_uri": "https://localhost:8080/",
     "height": 421
    },
    "id": "6-GECknQNvTu",
    "outputId": "ed725b27-d9f3-46b2-9bea-58b6c9964551",
    "executionInfo": {
     "status": "ok",
     "timestamp": 1649291832696,
     "user_tz": 300,
     "elapsed": 608,
     "user": {
      "displayName": "Jhon Ijaji",
      "userId": "15186852658417833647"
     }
    },
    "cell_id": "00024-f4478cf0-97d0-4da8-be19-f17ba0dde2fa",
    "deepnote_cell_type": "code",
    "deepnote_cell_height": 790,
    "deepnote_output_heights": [
     21,
     389
    ]
   },
   "source": "#Ahora generemos el histograma usando la librería seaborn.\nplt.figure(figsize=(6,6))\nsns.histplot(data     = df, \n             x        ='kilometers',\n             bins     = 30,\n             color    = 'blue',\n             fill     = True,\n             stat     = 'count')    #'count' muestra el número de observaciones.\n                                    #'frequency' muestra el número de observaciones dividida por el ancho del bin.\n                                    #'density' normaliza las cuentas tal que el área del histograma es 1.\n                                    #'probability' normaliza las cuentas tal que la suma de la altura de las barras es 1.\n\nplt.xlabel('Atributo: kilometers.') #Texto en el eje x.\nplt.ylabel('Cuentas.')              #Texto en el eje y.\nplt.title('Histograma') ",
   "execution_count": null,
   "outputs": [
    {
     "output_type": "execute_result",
     "data": {
      "text/plain": "Text(0.5, 1.0, 'Histograma')"
     },
     "metadata": {},
     "execution_count": 12
    },
    {
     "output_type": "display_data",
     "data": {
      "text/plain": "<Figure size 432x432 with 1 Axes>",
      "image/png": "[encoded data removed]"
     },
     "metadata": {
      "needs_background": "light",
      "image/png": {
       "width": 405,
       "height": 387
      }
     }
    }
   ]
  },
  {
   "cell_type": "markdown",
   "source": "Figura 4. Gráfico de dispersión de kilometraje y precio coloreado de acuerdo al tipo de combustible",
   "metadata": {
    "id": "laH0mg-36KXx",
    "cell_id": "00025-4c2c4920-7de9-461b-a263-b938539120b9",
    "deepnote_cell_type": "markdown",
    "deepnote_cell_height": 52.399993896484375
   }
  },
  {
   "cell_type": "code",
   "metadata": {
    "colab": {
     "base_uri": "https://localhost:8080/",
     "height": 400
    },
    "id": "d8pgOckD6PNO",
    "outputId": "92bae34c-cd57-44f7-bcae-feb74702168e",
    "executionInfo": {
     "status": "ok",
     "timestamp": 1649291839306,
     "user_tz": 300,
     "elapsed": 546,
     "user": {
      "displayName": "Jhon Ijaji",
      "userId": "15186852658417833647"
     }
    },
    "cell_id": "00026-54df31c8-d749-4c94-ae5a-f5b9481fc2bc",
    "deepnote_cell_type": "code",
    "deepnote_cell_height": 340.20001220703125,
    "deepnote_output_heights": [
     null,
     21
    ]
   },
   "source": "#Vamos a generar otro gráfico exploratorio muy común, pero esta vez vamos a utilizar la librería altair.\n\nimport altair as alt   #Altair: Declarative Visualization in Python. https://altair-viz.github.io\n\nalt.Chart(df).mark_point().encode(\n  x='kilometers',\n  y='price',\n  color='fuel_type'\n).interactive()",
   "execution_count": null,
   "outputs": [
    {
     "output_type": "error",
     "ename": "MaxRowsError",
     "evalue": "ignored",
     "traceback": [
      "\u001b[0;31m---------------------------------------------------------------------------\u001b[0m",
      "\u001b[0;31mMaxRowsError\u001b[0m                              Traceback (most recent call last)",
      "\u001b[0;32m/usr/local/lib/python3.7/dist-packages/altair/vegalite/v4/api.py\u001b[0m in \u001b[0;36mto_dict\u001b[0;34m(self, *args, **kwargs)\u001b[0m\n\u001b[1;32m   2018\u001b[0m             \u001b[0mcopy\u001b[0m\u001b[0;34m.\u001b[0m\u001b[0mdata\u001b[0m \u001b[0;34m=\u001b[0m \u001b[0mcore\u001b[0m\u001b[0;34m.\u001b[0m\u001b[0mInlineData\u001b[0m\u001b[0;34m(\u001b[0m\u001b[0mvalues\u001b[0m\u001b[0;34m=\u001b[0m\u001b[0;34m[\u001b[0m\u001b[0;34m{\u001b[0m\u001b[0;34m}\u001b[0m\u001b[0;34m]\u001b[0m\u001b[0;34m)\u001b[0m\u001b[0;34m\u001b[0m\u001b[0;34m\u001b[0m\u001b[0m\n\u001b[1;32m   2019\u001b[0m             \u001b[0;32mreturn\u001b[0m \u001b[0msuper\u001b[0m\u001b[0;34m(\u001b[0m\u001b[0mChart\u001b[0m\u001b[0;34m,\u001b[0m \u001b[0mcopy\u001b[0m\u001b[0;34m)\u001b[0m\u001b[0;34m.\u001b[0m\u001b[0mto_dict\u001b[0m\u001b[0;34m(\u001b[0m\u001b[0;34m*\u001b[0m\u001b[0margs\u001b[0m\u001b[0;34m,\u001b[0m \u001b[0;34m**\u001b[0m\u001b[0mkwargs\u001b[0m\u001b[0;34m)\u001b[0m\u001b[0;34m\u001b[0m\u001b[0;34m\u001b[0m\u001b[0m\n\u001b[0;32m-> 2020\u001b[0;31m         \u001b[0;32mreturn\u001b[0m \u001b[0msuper\u001b[0m\u001b[0;34m(\u001b[0m\u001b[0;34m)\u001b[0m\u001b[0;34m.\u001b[0m\u001b[0mto_dict\u001b[0m\u001b[0;34m(\u001b[0m\u001b[0;34m*\u001b[0m\u001b[0margs\u001b[0m\u001b[0;34m,\u001b[0m \u001b[0;34m**\u001b[0m\u001b[0mkwargs\u001b[0m\u001b[0;34m)\u001b[0m\u001b[0;34m\u001b[0m\u001b[0;34m\u001b[0m\u001b[0m\n\u001b[0m\u001b[1;32m   2021\u001b[0m \u001b[0;34m\u001b[0m\u001b[0m\n\u001b[1;32m   2022\u001b[0m     \u001b[0;32mdef\u001b[0m \u001b[0madd_selection\u001b[0m\u001b[0;34m(\u001b[0m\u001b[0mself\u001b[0m\u001b[0;34m,\u001b[0m \u001b[0;34m*\u001b[0m\u001b[0mselections\u001b[0m\u001b[0;34m)\u001b[0m\u001b[0;34m:\u001b[0m\u001b[0;34m\u001b[0m\u001b[0;34m\u001b[0m\u001b[0m\n",
      "\u001b[0;32m/usr/local/lib/python3.7/dist-packages/altair/vegalite/v4/api.py\u001b[0m in \u001b[0;36mto_dict\u001b[0;34m(self, *args, **kwargs)\u001b[0m\n\u001b[1;32m    372\u001b[0m         \u001b[0mcopy\u001b[0m \u001b[0;34m=\u001b[0m \u001b[0mself\u001b[0m\u001b[0;34m.\u001b[0m\u001b[0mcopy\u001b[0m\u001b[0;34m(\u001b[0m\u001b[0mdeep\u001b[0m\u001b[0;34m=\u001b[0m\u001b[0;32mFalse\u001b[0m\u001b[0;34m)\u001b[0m\u001b[0;34m\u001b[0m\u001b[0;34m\u001b[0m\u001b[0m\n\u001b[1;32m    373\u001b[0m         \u001b[0moriginal_data\u001b[0m \u001b[0;34m=\u001b[0m \u001b[0mgetattr\u001b[0m\u001b[0;34m(\u001b[0m\u001b[0mcopy\u001b[0m\u001b[0;34m,\u001b[0m \u001b[0;34m\"data\"\u001b[0m\u001b[0;34m,\u001b[0m \u001b[0mUndefined\u001b[0m\u001b[0;34m)\u001b[0m\u001b[0;34m\u001b[0m\u001b[0;34m\u001b[0m\u001b[0m\n\u001b[0;32m--> 374\u001b[0;31m         \u001b[0mcopy\u001b[0m\u001b[0;34m.\u001b[0m\u001b[0mdata\u001b[0m \u001b[0;34m=\u001b[0m \u001b[0m_prepare_data\u001b[0m\u001b[0;34m(\u001b[0m\u001b[0moriginal_data\u001b[0m\u001b[0;34m,\u001b[0m \u001b[0mcontext\u001b[0m\u001b[0;34m)\u001b[0m\u001b[0;34m\u001b[0m\u001b[0;34m\u001b[0m\u001b[0m\n\u001b[0m\u001b[1;32m    375\u001b[0m \u001b[0;34m\u001b[0m\u001b[0m\n\u001b[1;32m    376\u001b[0m         \u001b[0;32mif\u001b[0m \u001b[0moriginal_data\u001b[0m \u001b[0;32mis\u001b[0m \u001b[0;32mnot\u001b[0m \u001b[0mUndefined\u001b[0m\u001b[0;34m:\u001b[0m\u001b[0;34m\u001b[0m\u001b[0;34m\u001b[0m\u001b[0m\n",
      "\u001b[0;32m/usr/local/lib/python3.7/dist-packages/altair/vegalite/v4/api.py\u001b[0m in \u001b[0;36m_prepare_data\u001b[0;34m(data, context)\u001b[0m\n\u001b[1;32m     87\u001b[0m     \u001b[0;31m# convert dataframes  or objects with __geo_interface__ to dict\u001b[0m\u001b[0;34m\u001b[0m\u001b[0;34m\u001b[0m\u001b[0;34m\u001b[0m\u001b[0m\n\u001b[1;32m     88\u001b[0m     \u001b[0;32mif\u001b[0m \u001b[0misinstance\u001b[0m\u001b[0;34m(\u001b[0m\u001b[0mdata\u001b[0m\u001b[0;34m,\u001b[0m \u001b[0mpd\u001b[0m\u001b[0;34m.\u001b[0m\u001b[0mDataFrame\u001b[0m\u001b[0;34m)\u001b[0m \u001b[0;32mor\u001b[0m \u001b[0mhasattr\u001b[0m\u001b[0;34m(\u001b[0m\u001b[0mdata\u001b[0m\u001b[0;34m,\u001b[0m \u001b[0;34m\"__geo_interface__\"\u001b[0m\u001b[0;34m)\u001b[0m\u001b[0;34m:\u001b[0m\u001b[0;34m\u001b[0m\u001b[0;34m\u001b[0m\u001b[0m\n\u001b[0;32m---> 89\u001b[0;31m         \u001b[0mdata\u001b[0m \u001b[0;34m=\u001b[0m \u001b[0m_pipe\u001b[0m\u001b[0;34m(\u001b[0m\u001b[0mdata\u001b[0m\u001b[0;34m,\u001b[0m \u001b[0mdata_transformers\u001b[0m\u001b[0;34m.\u001b[0m\u001b[0mget\u001b[0m\u001b[0;34m(\u001b[0m\u001b[0;34m)\u001b[0m\u001b[0;34m)\u001b[0m\u001b[0;34m\u001b[0m\u001b[0;34m\u001b[0m\u001b[0m\n\u001b[0m\u001b[1;32m     90\u001b[0m \u001b[0;34m\u001b[0m\u001b[0m\n\u001b[1;32m     91\u001b[0m     \u001b[0;31m# convert string input to a URLData\u001b[0m\u001b[0;34m\u001b[0m\u001b[0;34m\u001b[0m\u001b[0;34m\u001b[0m\u001b[0m\n",
      "\u001b[0;32m/usr/local/lib/python3.7/dist-packages/toolz/functoolz.py\u001b[0m in \u001b[0;36mpipe\u001b[0;34m(data, *funcs)\u001b[0m\n\u001b[1;32m    628\u001b[0m     \"\"\"\n\u001b[1;32m    629\u001b[0m     \u001b[0;32mfor\u001b[0m \u001b[0mfunc\u001b[0m \u001b[0;32min\u001b[0m \u001b[0mfuncs\u001b[0m\u001b[0;34m:\u001b[0m\u001b[0;34m\u001b[0m\u001b[0;34m\u001b[0m\u001b[0m\n\u001b[0;32m--> 630\u001b[0;31m         \u001b[0mdata\u001b[0m \u001b[0;34m=\u001b[0m \u001b[0mfunc\u001b[0m\u001b[0;34m(\u001b[0m\u001b[0mdata\u001b[0m\u001b[0;34m)\u001b[0m\u001b[0;34m\u001b[0m\u001b[0;34m\u001b[0m\u001b[0m\n\u001b[0m\u001b[1;32m    631\u001b[0m     \u001b[0;32mreturn\u001b[0m \u001b[0mdata\u001b[0m\u001b[0;34m\u001b[0m\u001b[0;34m\u001b[0m\u001b[0m\n\u001b[1;32m    632\u001b[0m \u001b[0;34m\u001b[0m\u001b[0m\n",
      "\u001b[0;32m/usr/local/lib/python3.7/dist-packages/toolz/functoolz.py\u001b[0m in \u001b[0;36m__call__\u001b[0;34m(self, *args, **kwargs)\u001b[0m\n\u001b[1;32m    304\u001b[0m     \u001b[0;32mdef\u001b[0m \u001b[0m__call__\u001b[0m\u001b[0;34m(\u001b[0m\u001b[0mself\u001b[0m\u001b[0;34m,\u001b[0m \u001b[0;34m*\u001b[0m\u001b[0margs\u001b[0m\u001b[0;34m,\u001b[0m \u001b[0;34m**\u001b[0m\u001b[0mkwargs\u001b[0m\u001b[0;34m)\u001b[0m\u001b[0;34m:\u001b[0m\u001b[0;34m\u001b[0m\u001b[0;34m\u001b[0m\u001b[0m\n\u001b[1;32m    305\u001b[0m         \u001b[0;32mtry\u001b[0m\u001b[0;34m:\u001b[0m\u001b[0;34m\u001b[0m\u001b[0;34m\u001b[0m\u001b[0m\n\u001b[0;32m--> 306\u001b[0;31m             \u001b[0;32mreturn\u001b[0m \u001b[0mself\u001b[0m\u001b[0;34m.\u001b[0m\u001b[0m_partial\u001b[0m\u001b[0;34m(\u001b[0m\u001b[0;34m*\u001b[0m\u001b[0margs\u001b[0m\u001b[0;34m,\u001b[0m \u001b[0;34m**\u001b[0m\u001b[0mkwargs\u001b[0m\u001b[0;34m)\u001b[0m\u001b[0;34m\u001b[0m\u001b[0;34m\u001b[0m\u001b[0m\n\u001b[0m\u001b[1;32m    307\u001b[0m         \u001b[0;32mexcept\u001b[0m \u001b[0mTypeError\u001b[0m \u001b[0;32mas\u001b[0m \u001b[0mexc\u001b[0m\u001b[0;34m:\u001b[0m\u001b[0;34m\u001b[0m\u001b[0;34m\u001b[0m\u001b[0m\n\u001b[1;32m    308\u001b[0m             \u001b[0;32mif\u001b[0m \u001b[0mself\u001b[0m\u001b[0;34m.\u001b[0m\u001b[0m_should_curry\u001b[0m\u001b[0;34m(\u001b[0m\u001b[0margs\u001b[0m\u001b[0;34m,\u001b[0m \u001b[0mkwargs\u001b[0m\u001b[0;34m,\u001b[0m \u001b[0mexc\u001b[0m\u001b[0;34m)\u001b[0m\u001b[0;34m:\u001b[0m\u001b[0;34m\u001b[0m\u001b[0;34m\u001b[0m\u001b[0m\n",
      "\u001b[0;32m/usr/local/lib/python3.7/dist-packages/altair/vegalite/data.py\u001b[0m in \u001b[0;36mdefault_data_transformer\u001b[0;34m(data, max_rows)\u001b[0m\n\u001b[1;32m     17\u001b[0m \u001b[0;34m@\u001b[0m\u001b[0mcurried\u001b[0m\u001b[0;34m.\u001b[0m\u001b[0mcurry\u001b[0m\u001b[0;34m\u001b[0m\u001b[0;34m\u001b[0m\u001b[0m\n\u001b[1;32m     18\u001b[0m \u001b[0;32mdef\u001b[0m \u001b[0mdefault_data_transformer\u001b[0m\u001b[0;34m(\u001b[0m\u001b[0mdata\u001b[0m\u001b[0;34m,\u001b[0m \u001b[0mmax_rows\u001b[0m\u001b[0;34m=\u001b[0m\u001b[0;36m5000\u001b[0m\u001b[0;34m)\u001b[0m\u001b[0;34m:\u001b[0m\u001b[0;34m\u001b[0m\u001b[0;34m\u001b[0m\u001b[0m\n\u001b[0;32m---> 19\u001b[0;31m     \u001b[0;32mreturn\u001b[0m \u001b[0mcurried\u001b[0m\u001b[0;34m.\u001b[0m\u001b[0mpipe\u001b[0m\u001b[0;34m(\u001b[0m\u001b[0mdata\u001b[0m\u001b[0;34m,\u001b[0m \u001b[0mlimit_rows\u001b[0m\u001b[0;34m(\u001b[0m\u001b[0mmax_rows\u001b[0m\u001b[0;34m=\u001b[0m\u001b[0mmax_rows\u001b[0m\u001b[0;34m)\u001b[0m\u001b[0;34m,\u001b[0m \u001b[0mto_values\u001b[0m\u001b[0;34m)\u001b[0m\u001b[0;34m\u001b[0m\u001b[0;34m\u001b[0m\u001b[0m\n\u001b[0m\u001b[1;32m     20\u001b[0m \u001b[0;34m\u001b[0m\u001b[0m\n\u001b[1;32m     21\u001b[0m \u001b[0;34m\u001b[0m\u001b[0m\n",
      "\u001b[0;32m/usr/local/lib/python3.7/dist-packages/toolz/functoolz.py\u001b[0m in \u001b[0;36mpipe\u001b[0;34m(data, *funcs)\u001b[0m\n\u001b[1;32m    628\u001b[0m     \"\"\"\n\u001b[1;32m    629\u001b[0m     \u001b[0;32mfor\u001b[0m \u001b[0mfunc\u001b[0m \u001b[0;32min\u001b[0m \u001b[0mfuncs\u001b[0m\u001b[0;34m:\u001b[0m\u001b[0;34m\u001b[0m\u001b[0;34m\u001b[0m\u001b[0m\n\u001b[0;32m--> 630\u001b[0;31m         \u001b[0mdata\u001b[0m \u001b[0;34m=\u001b[0m \u001b[0mfunc\u001b[0m\u001b[0;34m(\u001b[0m\u001b[0mdata\u001b[0m\u001b[0;34m)\u001b[0m\u001b[0;34m\u001b[0m\u001b[0;34m\u001b[0m\u001b[0m\n\u001b[0m\u001b[1;32m    631\u001b[0m     \u001b[0;32mreturn\u001b[0m \u001b[0mdata\u001b[0m\u001b[0;34m\u001b[0m\u001b[0;34m\u001b[0m\u001b[0m\n\u001b[1;32m    632\u001b[0m \u001b[0;34m\u001b[0m\u001b[0m\n",
      "\u001b[0;32m/usr/local/lib/python3.7/dist-packages/toolz/functoolz.py\u001b[0m in \u001b[0;36m__call__\u001b[0;34m(self, *args, **kwargs)\u001b[0m\n\u001b[1;32m    304\u001b[0m     \u001b[0;32mdef\u001b[0m \u001b[0m__call__\u001b[0m\u001b[0;34m(\u001b[0m\u001b[0mself\u001b[0m\u001b[0;34m,\u001b[0m \u001b[0;34m*\u001b[0m\u001b[0margs\u001b[0m\u001b[0;34m,\u001b[0m \u001b[0;34m**\u001b[0m\u001b[0mkwargs\u001b[0m\u001b[0;34m)\u001b[0m\u001b[0;34m:\u001b[0m\u001b[0;34m\u001b[0m\u001b[0;34m\u001b[0m\u001b[0m\n\u001b[1;32m    305\u001b[0m         \u001b[0;32mtry\u001b[0m\u001b[0;34m:\u001b[0m\u001b[0;34m\u001b[0m\u001b[0;34m\u001b[0m\u001b[0m\n\u001b[0;32m--> 306\u001b[0;31m             \u001b[0;32mreturn\u001b[0m \u001b[0mself\u001b[0m\u001b[0;34m.\u001b[0m\u001b[0m_partial\u001b[0m\u001b[0;34m(\u001b[0m\u001b[0;34m*\u001b[0m\u001b[0margs\u001b[0m\u001b[0;34m,\u001b[0m \u001b[0;34m**\u001b[0m\u001b[0mkwargs\u001b[0m\u001b[0;34m)\u001b[0m\u001b[0;34m\u001b[0m\u001b[0;34m\u001b[0m\u001b[0m\n\u001b[0m\u001b[1;32m    307\u001b[0m         \u001b[0;32mexcept\u001b[0m \u001b[0mTypeError\u001b[0m \u001b[0;32mas\u001b[0m \u001b[0mexc\u001b[0m\u001b[0;34m:\u001b[0m\u001b[0;34m\u001b[0m\u001b[0;34m\u001b[0m\u001b[0m\n\u001b[1;32m    308\u001b[0m             \u001b[0;32mif\u001b[0m \u001b[0mself\u001b[0m\u001b[0;34m.\u001b[0m\u001b[0m_should_curry\u001b[0m\u001b[0;34m(\u001b[0m\u001b[0margs\u001b[0m\u001b[0;34m,\u001b[0m \u001b[0mkwargs\u001b[0m\u001b[0;34m,\u001b[0m \u001b[0mexc\u001b[0m\u001b[0;34m)\u001b[0m\u001b[0;34m:\u001b[0m\u001b[0;34m\u001b[0m\u001b[0;34m\u001b[0m\u001b[0m\n",
      "\u001b[0;32m/usr/local/lib/python3.7/dist-packages/altair/utils/data.py\u001b[0m in \u001b[0;36mlimit_rows\u001b[0;34m(data, max_rows)\u001b[0m\n\u001b[1;32m     82\u001b[0m             \u001b[0;34m\"than the maximum allowed ({}). \"\u001b[0m\u001b[0;34m\u001b[0m\u001b[0;34m\u001b[0m\u001b[0m\n\u001b[1;32m     83\u001b[0m             \u001b[0;34m\"For information on how to plot larger datasets \"\u001b[0m\u001b[0;34m\u001b[0m\u001b[0;34m\u001b[0m\u001b[0m\n\u001b[0;32m---> 84\u001b[0;31m             \u001b[0;34m\"in Altair, see the documentation\"\u001b[0m\u001b[0;34m.\u001b[0m\u001b[0mformat\u001b[0m\u001b[0;34m(\u001b[0m\u001b[0mmax_rows\u001b[0m\u001b[0;34m)\u001b[0m\u001b[0;34m\u001b[0m\u001b[0;34m\u001b[0m\u001b[0m\n\u001b[0m\u001b[1;32m     85\u001b[0m         )\n\u001b[1;32m     86\u001b[0m     \u001b[0;32mreturn\u001b[0m \u001b[0mdata\u001b[0m\u001b[0;34m\u001b[0m\u001b[0;34m\u001b[0m\u001b[0m\n",
      "\u001b[0;31mMaxRowsError\u001b[0m: The number of rows in your dataset is greater than the maximum allowed (5000). For information on how to plot larger datasets in Altair, see the documentation"
     ]
    },
    {
     "output_type": "execute_result",
     "data": {
      "text/plain": "alt.Chart(...)"
     },
     "metadata": {},
     "execution_count": 13
    }
   ]
  },
  {
   "cell_type": "markdown",
   "source": "Figura 5. Diagrama de caja para el kilometraje",
   "metadata": {
    "id": "V_2H1PJE70XO",
    "cell_id": "00027-30ccb43a-19a3-4bcb-85e9-43fc1a5f6a5e",
    "deepnote_cell_type": "markdown",
    "deepnote_cell_height": 52.399993896484375
   }
  },
  {
   "cell_type": "code",
   "metadata": {
    "colab": {
     "base_uri": "https://localhost:8080/",
     "height": 313
    },
    "id": "wyXofENP9Z5Z",
    "outputId": "69edb7e4-87e7-44ea-d5c2-078c8a19ede6",
    "cell_id": "00028-2871791d-f274-4cdb-a2d3-e80799250515",
    "deepnote_cell_type": "code",
    "deepnote_cell_height": 466,
    "deepnote_output_heights": [
     21,
     281
    ]
   },
   "source": "plt.title('Box plot\\n'+str(df.columns[5]))\n\ndf.boxplot(column='kilometers')",
   "execution_count": null,
   "outputs": [
    {
     "output_type": "execute_result",
     "data": {
      "text/plain": "<matplotlib.axes._subplots.AxesSubplot at 0x7feacad8ff10>"
     },
     "metadata": {},
     "execution_count": 12
    },
    {
     "output_type": "display_data",
     "data": {
      "image/png": "[encoded data removed]",
      "text/plain": "<Figure size 432x288 with 1 Axes>"
     },
     "metadata": {
      "needs_background": "light",
      "image/png": {
       "width": 393,
       "height": 279
      }
     }
    }
   ]
  },
  {
   "cell_type": "code",
   "metadata": {
    "id": "IlLqDsPlNoiF",
    "cell_id": "00029-e8c23e1f-6169-4596-b576-33d3fdade28c",
    "deepnote_cell_type": "code",
    "deepnote_cell_height": 66
   },
   "source": "",
   "execution_count": null,
   "outputs": []
  },
  {
   "cell_type": "markdown",
   "source": "<a style='text-decoration:none;line-height:16px;display:flex;color:#5B5B62;padding:10px;justify-content:end;' href='https://deepnote.com?utm_source=created-in-deepnote-cell&projectId=511ee041-b4b1-4cd3-b8ea-b2652010eed2' target=\"_blank\">\n<img alt='Created in deepnote.com' style='display:inline;max-height:16px;margin:0px;margin-right:7.5px;' src='data:image/svg+xml;base64,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' > </img>\nCreated in <span style='font-weight:600;margin-left:4px;'>Deepnote</span></a>",
   "metadata": {
    "tags": [],
    "created_in_deepnote_cell": true,
    "deepnote_cell_type": "markdown"
   }
  }
 ],
 "nbformat": 4,
 "nbformat_minor": 0,
 "metadata": {
  "colab": {
   "name": "Exploración_datos_proyecto_IA.ipynb",
   "provenance": [],
   "collapsed_sections": []
  },
  "kernelspec": {
   "name": "python3",
   "display_name": "Python 3"
  },
  "language_info": {
   "name": "python"
  },
  "deepnote_notebook_id": "f987b474-d3f0-4e82-aec0-f2a0085c638d",
  "deepnote": {},
  "deepnote_execution_queue": []
 }
}